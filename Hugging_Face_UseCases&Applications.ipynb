{
  "nbformat": 4,
  "nbformat_minor": 0,
  "metadata": {
    "colab": {
      "provenance": [],
      "authorship_tag": "ABX9TyO+aI0o4zv64p9VOkKGE8cH",
      "include_colab_link": true
    },
    "kernelspec": {
      "name": "python3",
      "display_name": "Python 3"
    },
    "language_info": {
      "name": "python"
    }
  },
  "cells": [
    {
      "cell_type": "markdown",
      "metadata": {
        "id": "view-in-github",
        "colab_type": "text"
      },
      "source": [
        "<a href=\"https://colab.research.google.com/github/Harsha-7989/Hugging_Face/blob/main/Hugging_Face_UseCases%26Applications.ipynb\" target=\"_parent\"><img src=\"https://colab.research.google.com/assets/colab-badge.svg\" alt=\"Open In Colab\"/></a>"
      ]
    },
    {
      "cell_type": "markdown",
      "source": [
        "Hugging Face makes it incredibly simple allowing us to build any pipeline if we want to standardize any NLP process in just three steps:\n",
        "\n",
        "*Create a model object using the pipeline class with the chosen model and tokenizer.\n",
        "*Define the input text or prompt.\n",
        "\n",
        "*Run the pre-trained model with your input and check the results."
      ],
      "metadata": {
        "id": "g-tV43nJKA6t"
      }
    },
    {
      "cell_type": "markdown",
      "source": [
        "#1. Text classification"
      ],
      "metadata": {
        "id": "yVZdB4NPKVy6"
      }
    },
    {
      "cell_type": "code",
      "execution_count": 4,
      "metadata": {
        "colab": {
          "base_uri": "https://localhost:8080/"
        },
        "id": "6YTpGz9BJnto",
        "outputId": "ead050fe-0850-4c77-eb2e-dbe4e68b89dd"
      },
      "outputs": [
        {
          "output_type": "stream",
          "name": "stdout",
          "text": [
            "[{'label': 'positive', 'score': 0.9699339866638184}]\n"
          ]
        }
      ],
      "source": [
        "from transformers import pipeline\n",
        "\n",
        "classifier = pipeline(\"text-classification\", model = 'lxyuan/distilbert-base-multilingual-cased-sentiments-student')\n",
        "\n",
        "input = \" I absolutely love the llms\"\n",
        "output = classifier(input)\n",
        "\n",
        "print(output)"
      ]
    },
    {
      "cell_type": "markdown",
      "source": [
        "#2. Text generation"
      ],
      "metadata": {
        "id": "vNnotRJKLkYe"
      }
    },
    {
      "cell_type": "code",
      "source": [],
      "metadata": {
        "id": "X1jFGzgDLHFw"
      },
      "execution_count": null,
      "outputs": []
    }
  ]
}